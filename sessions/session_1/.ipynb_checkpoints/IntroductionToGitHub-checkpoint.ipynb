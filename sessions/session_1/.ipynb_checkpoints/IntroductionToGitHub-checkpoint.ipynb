{
  "nbformat": 4,
  "nbformat_minor": 0,
  "metadata": {
    "colab": {
      "provenance": []
    },
    "kernelspec": {
      "name": "python3",
      "display_name": "Python 3"
    },
    "language_info": {
      "name": "python"
    }
  },
  "cells": [
    {
      "cell_type": "markdown",
      "source": [
        "# Introduction to Git and GitHub"
      ],
      "metadata": {
        "id": "A2K-Nh5sx5-5"
      }
    },
    {
      "cell_type": "markdown",
      "source": [
        "## Version Control System (VCS)\n",
        "\n",
        "A Version Control System is a software tool that tracks changes to files over time, allowing to revert to previous versions if needed. When you decide to add a file to the VCS, a base version of it (how it is the moment you add it) is stored, and then the changes you make are recorded every time you decide it.\n",
        "\n",
        "It is easier to see it as a recording of your progress. The VCS also allows you to rewind to previous versions of the documents, see changes you made in the past, have different versions of the same document, etc.\n",
        "\n",
        "The VCS allows us to decide which changes will be made to the next version, and keeps useful metadata about them. The complete history for a particular project and their metadada make up a **repository**. Repositories can be kept in sync accross different computers, facilitating collaboration among different people."
      ],
      "metadata": {
        "id": "CLv7pTrG72Qm"
      }
    },
    {
      "cell_type": "markdown",
      "source": [
        "## Git\n"
      ],
      "metadata": {
        "id": "iePP0zvl-Ivs"
      }
    },
    {
      "cell_type": "markdown",
      "source": [
        "Git is the most popular distributed VCS. It is commonly used for both open source and commercial software development. Let's install it and set it up!\n",
        "\n",
        "To see if you have already installed it, open a terminal and run:\n",
        "\n",
        "```bash\n",
        "git --version\n",
        "> git version 2.43.0\n",
        "```"
      ],
      "metadata": {
        "id": "qUy3dTvvlR09"
      }
    },
    {
      "cell_type": "markdown",
      "source": [
        "The output should look like the above. If you do not have installed it yet, depending on you OS (Windows, Linux or MacOS), you should follow the next instructions:\n",
        "\n",
        "https://github.com/git-guides/install-git\n",
        "\n",
        "In the link, there are the instructions to install it in all three OS.\n"
      ],
      "metadata": {
        "id": "koMUL-MUAmHI"
      }
    },
    {
      "cell_type": "markdown",
      "source": [
        "Now, let's add the initial configuration. For that, you will need to indicate to Git your name and an email. Consider that this email is the one we will later use for doing the project. You can use the institutional email, or a personal one if you plan to do projects outside of work. This is also the one we will use later for GitHub. Both will be associated with your Git activity.\n",
        "\n",
        "Run the following commands, with your name and email:\n",
        "\n",
        "```bash\n",
        "git config --global user.name \"Your Name\"\n",
        "git config --global user.email \"yourname@gmail.com\"\n",
        "```\n",
        "\n",
        "We will also change the name of the default branch (we will talk about branches later):\n",
        "\n",
        "```bash\n",
        "git config --global init.defaultBranch main\n",
        "```"
      ],
      "metadata": {
        "id": "_nDBddRqD03y"
      }
    },
    {
      "cell_type": "markdown",
      "source": [
        "To see everything added go the configuration file, run:\n",
        "```bash\n",
        "git config --list --global\n",
        "```\n",
        "\n",
        "You can add more things to the configuration file, such as your preferred text or code editor, display settings, alias command, etc. But for now, with this we have enough."
      ],
      "metadata": {
        "id": "IpAxG99NFytg"
      }
    },
    {
      "cell_type": "markdown",
      "source": [
        "To finish, you can get a list of the available commands with:\n",
        "\n",
        "```bash\n",
        "git help\n",
        "```"
      ],
      "metadata": {
        "id": "Os3OXcRZHR31"
      }
    },
    {
      "cell_type": "markdown",
      "source": [
        "### Creating a repository"
      ],
      "metadata": {
        "id": "OZ-6TGU6I1UX"
      }
    },
    {
      "cell_type": "markdown",
      "source": [
        "When we have a project where we want to track our changes, we can use Git. For that, we can create a local Git repository, which is a place where Git can store versions of our files. To our eyes is nothing more than a special kind of folder/directory. Through the terminal, go to the folder where you want to create the repository:\n",
        "\n",
        "```bash\n",
        "cd /your/chosen/folder\n",
        "```\n",
        "\n",
        "Create a directory where your repository will be and move inside it:\n",
        "\n",
        "```bash\n",
        "mkdir intro_to_github_dir\n",
        "cd intro_to_github_dir\n",
        "```\n",
        "\n",
        "Then, we tell Git to make it a repository:\n",
        "\n",
        "```bash\n",
        "git init\n",
        "```\n",
        "\n",
        "And run:\n",
        "\n",
        "```bash\n",
        "ls -a     # This command is to list everything in the directory, including hidden files\n",
        "```\n",
        "\n",
        "You will see that a `.git`directory is now there. This is a special subdirectory to store all the information about the project.\n",
        "\n",
        "To finish, run:\n",
        "\n",
        "```bash\n",
        "git status\n",
        "```"
      ],
      "metadata": {
        "id": "dpVRp5QNlJjV"
      }
    },
    {
      "cell_type": "markdown",
      "source": [
        "**IMPORTANT**: there is no need to initialize a git repo inside each of the subdirectories in your project. Git will keep track of everything below the root directory, including all files inside subdirectories."
      ],
      "metadata": {
        "id": "hic8Hq6nPpOe"
      }
    },
    {
      "cell_type": "markdown",
      "source": [
        "### Tracking changes"
      ],
      "metadata": {
        "id": "sor971bzRH8r"
      }
    },
    {
      "cell_type": "markdown",
      "source": [
        "For the purpose of seeing how we can track changes in the repository, create a .txt file, write whatever you want in the first line, and save it in the repository. In Linux and MacOS, you can do it by running:\n",
        "\n",
        "```bash\n",
        "nano file_name.txt\n",
        "```\n",
        "\n",
        "This will open the nano editor. Write something in the first line and save it (the command to save it should appear on screen). Run:\n",
        "```bash\n",
        "ls\n",
        "```\n",
        "This command lists all visible files in the current directory. You should see your newly created file. With:\n",
        "```bash\n",
        "cat file_name.txt\n",
        "```\n",
        "The contents of the file are printed on the terminal."
      ],
      "metadata": {
        "id": "xsmZKGwhUJfB"
      }
    },
    {
      "cell_type": "markdown",
      "source": [
        "Now, run the command we saw before: `git status`.\n",
        "What is the output?\n",
        "\n",
        "To start tracking the changes in the file, run:\n",
        "\n",
        "```bash\n",
        "git add file_name.txt\n",
        "```\n",
        "Once again, run `git status`. What is the output?\n",
        "\n",
        "The file is now being tracked, but we have not yet recorded a first version of it in the repository. To do that, we need to do a **commit**.\n",
        "\n",
        "**IMPORTANT**: A commit is like a checkpoint. Once you add something to your code and consider the new feature finished, you do a commit. Git will have a list of all commits done in the history of the repo, and it allows you to go back and forth along this list.\n",
        "\n",
        "**GOOD PRACTICES**: it is always better to do smaller commits (small changes to the code and commit) than bigger ones (big changes to the code and commit). This way, it is easier to keep track of the changes done in the code, and what was done in each commit.\n",
        "\n",
        "To do a commit, run:\n",
        "\n",
        "```bash\n",
        "git commit -m \"Created file_name.txt\"\n",
        "```\n",
        "\n",
        "The -m flag is used to record a short, descriptive message regarding the changes done before the previous commit and the current one. It is useful to later remember what we did and why. Run `git status` again. What is the output?\n",
        "\n",
        "Now run:\n",
        "\n",
        "```bash\n",
        "git log\n",
        "```\n",
        "To exit, just press 'q'."
      ],
      "metadata": {
        "id": "1Ck0ACI6Z1g3"
      }
    },
    {
      "cell_type": "markdown",
      "source": [
        "Modify the .txt file again. Add a couple lines to it. Then, run `git status` and the following command:\n",
        "\n",
        "```bash\n",
        "git diff\n",
        "```\n",
        "This command shows us the differences between the last commit and the current version of the document. Run `git add file_name.txt` and run `git diff` again. To see differences on a document you have already added, run:\n",
        "\n",
        "```bash\n",
        "git diff --staged\n",
        "```\n",
        "\n",
        "This will look for the differences between the documents in the staging area and their versions in the previous commit. Run a new commit with:\n",
        "\n",
        "```bash\n",
        "git commit -m \"Descriptive message\"\n",
        "```\n",
        "\n",
        "**IMPORTANT**: always, before a commit, run `git add` to the new files you want to track and the modified files. This command adds the files to the **staging area** where the snapshot (commit) will be taken.\n"
      ],
      "metadata": {
        "id": "NfRTMlGNe5tO"
      }
    },
    {
      "cell_type": "markdown",
      "source": [
        "### Exploring history"
      ],
      "metadata": {
        "id": "8WC73mlmlU9X"
      }
    },
    {
      "cell_type": "markdown",
      "source": [
        "When we run `git log`, we can see that there is a string of alphanumerical characters for each commit. This is the commit identifier, and we can use it to refer to a specific commit when exploring the history of our repository. However, we can refer to the most recent commit as `HEAD`.\n",
        "\n",
        "```bash\n",
        "git diff file_name.txt\n",
        "git diff HEAD file_name.txt\n",
        "```\n",
        "\n",
        "These two commands will give the same output, since we are looking at the same previous commit. However, we can run:\n",
        "\n",
        "```bash\n",
        "git diff HEAD~1 file_name.txt\n",
        "git diff HEAD~2 file_name.txt\n",
        "```\n",
        "\n",
        "This means to look for the differences in the commits previous to the last one. You can refer to a specific commit with the first characters of its identifier:\n",
        "\n",
        "```bash\n",
        "git diff f22b25e file_name.txt\n",
        "```"
      ],
      "metadata": {
        "id": "FkFIOgqxliud"
      }
    },
    {
      "cell_type": "markdown",
      "source": [
        "To restore a version of a document from a previous commit, run:\n",
        "```bash\n",
        "git restore -s f22b25e file_name.txt\n",
        "```\n",
        "If it is to the previous commit, with `git restore file_name.txt` is enough."
      ],
      "metadata": {
        "id": "30yuibH9n0aD"
      }
    },
    {
      "cell_type": "markdown",
      "source": [
        "### .gitignore"
      ],
      "metadata": {
        "id": "53JyiwtCookG"
      }
    },
    {
      "cell_type": "markdown",
      "source": [
        "In every project, there are some documents or directories we do not want to keep track of. There is a file, .gitignore, that we can use in our repo to specify which are the documents we do not want to keep track of. This way, they will not appear when we run `git status`, making things easier to keep track of the files we do need to keep track of. To create this file, run:\n",
        "\n",
        "```bash\n",
        "nano .gitignore\n",
        "```\n",
        "\n",
        "You can refer to the files inside in several different ways. For example:\n",
        "\n",
        "```\n",
        "*.png\n",
        "*.pkl\n",
        "raw_data/\n",
        "```\n",
        "\n",
        "This will ignore all files that end with .png and .pkl, and everything inside the raw_data/ directory."
      ],
      "metadata": {
        "id": "bwSqKDptorhQ"
      }
    },
    {
      "cell_type": "markdown",
      "source": [
        "## GitHub"
      ],
      "metadata": {
        "id": "KofFgtaYpn6R"
      }
    },
    {
      "cell_type": "markdown",
      "source": [
        "VCS are really useful to collaborate with other people. Now, we are only missing the way to copy changes from one repository to another. In practice, the easiest thing to do is to use one copy as a central hub, and to keep it on the web rather than on someone's PC. For that purpose, we will use [GitHub](https://www.github.com).\n",
        "\n",
        "Now, we will create an account and create our first remote repository."
      ],
      "metadata": {
        "id": "xTGu98GGp8wv"
      }
    },
    {
      "cell_type": "markdown",
      "source": [
        "### Connect local to remote repository\n",
        "\n",
        "Now that you have your GitHub account and your first repository created, what we need first is a way for your computer and the GitHub web to communicate in a secure way."
      ],
      "metadata": {
        "id": "8G7_TkSL2HYn"
      }
    },
    {
      "cell_type": "markdown",
      "source": [
        "#### SSH setup\n",
        "\n",
        "For that, let's create an SSH key for your computer to comunicate with GitHub. From the terminal, execute the following command:\n",
        "\n",
        "```bash\n",
        "ls -al ~/.ssh\n",
        "```\n",
        "\n",
        "If you have previously used SSH keys, a list of those keys should appear. Otherwise, an error will appear indicating that such directory does not exist.\n",
        "\n",
        "Let's create a new SSH key pair:\n",
        "\n",
        "```bash\n",
        "ssh-keygen -t ed25519 -C \"yourname@gmail.com\"\n",
        "\n",
        "# Some systems do not have support for the Ed25519 algorithm. In that case, use:\n",
        "ssh-keygen -t rsa -b 4096 -C \"yourname@gmail.com\"\n",
        "```\n",
        "\n",
        "You can put a passphrase (it is just a password) for the SSH key. However, there is no \"reset my password\" option. Now, run again:\n",
        "\n",
        "```bash\n",
        "ls -al ~/.ssh\n",
        "```"
      ],
      "metadata": {
        "id": "hYN_qvoi50xR"
      }
    },
    {
      "cell_type": "markdown",
      "source": [
        "Now, we have to let GitHub know what our SSH public key is. You can get your public key by running:\n",
        "\n",
        "```bash\n",
        "cat ~/.ssh/id_ed25519.pub\n",
        "```\n",
        "The whole output is the key. Now go to GitHub and add it. Once that is done, run:\n",
        "\n",
        "```bash\n",
        "ssh -T git@github.com\n",
        "```\n"
      ],
      "metadata": {
        "id": "6RCIm7v79Rax"
      }
    },
    {
      "cell_type": "markdown",
      "source": [
        "#### Connect local to remote"
      ],
      "metadata": {
        "id": "ZQexqHMn-cCV"
      }
    },
    {
      "cell_type": "markdown",
      "source": [
        "Go the the repository page, and copy the SSH URL for a quick setup. Then, run the following:\n",
        "\n",
        "```bash\n",
        "git remote add origin repo_url\n",
        "```\n",
        "We check if it has worked by running:\n",
        "```bash\n",
        "git remote -v\n",
        "```\n",
        "\n",
        "Then, finally, you can **push** your local work to the remote repository in GitHub with:\n",
        "\n",
        "```bash\n",
        "git push origin main\n",
        "```"
      ],
      "metadata": {
        "id": "CeeAyCkH-ogj"
      }
    },
    {
      "cell_type": "markdown",
      "source": [
        "### Collaborating\n",
        "\n",
        "To collaborate in a GitHub repository, you need to add Collaborators. Go to the GitHub repository you created in the last section, and open the Settings Tab. Inside, go to Collaborators, and here you can add collaborators by indicating their username or email in GitHub."
      ],
      "metadata": {
        "id": "QH54Zp7i_LP7"
      }
    },
    {
      "cell_type": "markdown",
      "source": [
        "#### Clone\n",
        "\n",
        "When there is a remote repository that you have not yet locally (it is on GitHub, but not on your computer), you can **clone** it. That means, you create a local copy of it, and you can now work on it.\n",
        "\n",
        "You will be able to clone a GitHub repository in two circumstances:\n",
        "- If the repository is public.\n",
        "- If the repository is private and you are a collaborator.\n",
        "\n",
        "To clone a repo, run:\n",
        "\n",
        "```bash\n",
        "git clone ssh_url local/path\n",
        "```\n",
        "\n",
        "You can get the ssh_url from the repo's main page and the local/path is where in your computer you want to clone the repository."
      ],
      "metadata": {
        "id": "jAiFT1Ku2cKE"
      }
    },
    {
      "cell_type": "markdown",
      "source": [
        "#### Pull and push\n",
        "\n",
        "This are the two mechanics you are going to use the most, so it is important to use them well.\n",
        "\n",
        "**Pull**: this command copies the changes that are in the remote repository that you have not yet pulled to your local copy. This means, if a collaborator has made some changes and uploaded them to the remote repo, you have to do a pull to get them locally. To do it, just run from your local repo:\n",
        "\n",
        "```bash\n",
        "git pull\n",
        "```\n",
        "\n",
        "**Push**: when you do some commits locally, you have to make them appear in the remote repository. To do that, you push your commits. You can do several commits without a push, and push them all together at once. You only need to run from your local repo:\n",
        "\n",
        "```bash\n",
        "git push\n",
        "```\n",
        "\n",
        "**GOOD PRACTICES**: whenever you start with your coding session, it is always good practice to do a pull first. This way, you make sure to get all the changes made in your abscence before you start making any more changes."
      ],
      "metadata": {
        "id": "7-LtK4se4RpC"
      }
    },
    {
      "cell_type": "markdown",
      "source": [
        "#### Conflicts and merges\n",
        "\n",
        "Therefore, when you are making changes in a repository with some other people, it is inevitable to end up making changes in the same file, even along the same lines said file. What happens then?\n",
        "![image](https://swcarpentry.github.io/git-novice/fig/conflict.svg)\n",
        "\n",
        "**Conflict**: it happens when there are two versions of the same file; one version you have locally, the other is in the remote repository, and the commit history does not coincide between them. Git will not let you push, and you will have to pull. When you do, something like this will appear in your terminal:\n",
        "\n",
        "```bash\n",
        "CONFLICT (content): Merge conflict in file_name.txt\n",
        "Automatic merge failed; fix conflicts and then commit the result.\n",
        "```\n",
        "\n",
        "If you see the contents of the files where there is a conflict, there will be some lines that look like this:\n",
        "\n",
        "```bash\n",
        "<<<<<<< HEAD\n",
        "* These are the changes that are in MY version.\n",
        "=======\n",
        "* These are the changes that were in the remote repository.\n",
        ">>>>>>> dabb4c8c450e8475aee9b14b4383acc99f42af1d\n",
        "```\n",
        "\n",
        "**Merge**:  what you need to do is to solve the conflicts yourselves, *merge* the changes. Remove the special lines (<<<<< HEAD, >>>>>>>, =========, etc.), talk to the colleague that made the other changes (sometimes you do not need to, since the code is clear enough to understand the changes you need to make), and decide for a final version of the file. Then, you will be able to push again."
      ],
      "metadata": {
        "id": "FWzDTY-4C7tx"
      }
    },
    {
      "cell_type": "markdown",
      "source": [
        "#### Branches\n",
        "\n",
        "![image](https://wac-cdn.atlassian.com/dam/jcr:a905ddfd-973a-452a-a4ae-f1dd65430027/01%20Git%20branch.svg?cdnVersion=2653)\n",
        "\n",
        "In the image above, each of the different points is a commit. Normally, what you have is just the line of blue points, with your version being the last commit of the main branch. It usually is a stable version of your code, so when you want to add something to your code, it is better not to touch it.\n",
        "\n",
        "That is why we have **branches**. To create a new branch, run:\n",
        "\n",
        "```bash\n",
        "git branch branch_name\n",
        "```\n",
        "\n",
        "When you create a new branch, it starts pointint to the same commit you were before:\n",
        "\n",
        "![image](https://wac-cdn.atlassian.com/dam/jcr:387f080e-19b8-43ab-a7a3-0921ffd7298a/03%20Creating%20branches.svg?cdnVersion=2653)\n",
        "\n",
        "To move to the new branch, run:\n",
        "\n",
        "```bash\n",
        "git checkout branch_name\n",
        "```\n",
        "\n",
        "Then, you can start using the standard git commands to commit the changes in your code, and they will be separated from the main branch.\n",
        "\n",
        "Other useful commands:\n",
        "\n",
        "```bash\n",
        "git branch -d branch_name  # Safe delete of the branch, git prevents you deleting it if there are unmerged changes\n",
        "git branch -D branch_name  # Force delete of branch\n",
        "git branch  # Show a list of all branches\n",
        "```"
      ],
      "metadata": {
        "id": "yd_3JUOJIFCE"
      }
    },
    {
      "cell_type": "markdown",
      "source": [
        "#### Pull request\n",
        "\n",
        "A pull request is a way to propose changes you've made in a Git branch to be merged into another branch, usually the one in production (main). It is a way to review the code before it becomes part of the main project.\n",
        "\n",
        "Once you are done with the changes you wanted to make in your own separate branch, you go to the GitHub repository's main page, and create a pull request. You select the target branch (usually main) and your origin branch (the branch you have been working on). Then, you submit it, and the administrator of the main branch can see the the changes you made in the code, offer some feedback and decide if the code is ready to be integrated or not."
      ],
      "metadata": {
        "id": "g3NqwEGoUDE0"
      }
    },
    {
      "cell_type": "markdown",
      "source": [
        "#### Fork\n",
        "\n",
        "Forking is a different type of workflow. We use fork when we are neither owners nor collaborators of a repository, and we still want to make a contribution.\n",
        "\n",
        "**Fork**: it is a personal copy of someone else's repository on GitHub. It allows you to experiment and do changes without affecting the original project. It is a way of customizing the project for your own use and, if you want someone else to use it, you can propose the changes to the original repository via Pull Request.\n",
        "\n",
        "Let's go to the [firstcontributions](https://github.com/firstcontributions/first-contributions) GitHub and fork it!"
      ],
      "metadata": {
        "id": "322gk-Ju_ySw"
      }
    },
    {
      "cell_type": "markdown",
      "source": [
        "----------------------\n",
        "This tutorial is based on the ones from [Software Carpentry](https://swcarpentry.github.io/git-novice/index.html) and [Atlassian](https://www.atlassian.com/git/glossary#commands)."
      ],
      "metadata": {
        "id": "Pt7VyAcMh0i4"
      }
    }
  ]
}