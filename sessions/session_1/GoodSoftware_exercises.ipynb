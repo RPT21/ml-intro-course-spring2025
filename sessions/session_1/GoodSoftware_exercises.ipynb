{
  "nbformat": 4,
  "nbformat_minor": 0,
  "metadata": {
    "colab": {
      "provenance": []
    },
    "kernelspec": {
      "name": "python3",
      "display_name": "Python 3"
    },
    "language_info": {
      "name": "python"
    }
  },
  "cells": [
    {
      "cell_type": "markdown",
      "source": [],
      "metadata": {
        "id": "sOpJ1RpEluIJ"
      }
    },
    {
      "cell_type": "markdown",
      "source": [
        "## Coding Style"
      ],
      "metadata": {
        "id": "trbyQ1fulwCl"
      }
    },
    {
      "cell_type": "markdown",
      "source": [
        "**Task:** Refactor the following function to improve readability by using better variable names. This function calculates the mean of a list of numbers."
      ],
      "metadata": {
        "id": "1j6mgPpS3jOj"
      }
    },
    {
      "cell_type": "code",
      "source": [
        "def calc_mean(vals):\n",
        "    s = 0\n",
        "    for v in vals:\n",
        "        s += v\n",
        "    return s / len(vals)"
      ],
      "metadata": {
        "id": "7O1AlCiO345V"
      },
      "execution_count": null,
      "outputs": []
    },
    {
      "cell_type": "code",
      "source": [
        "#Your solution here...\n",
        "\n",
        "def calculate_mean(numbers: list):\n",
        "  sum = 0\n",
        "  for number in numbers:\n",
        "    sum += number\n",
        "  return sum / len(numbers)"
      ],
      "metadata": {
        "id": "Zmf8qVfI37Dn"
      },
      "execution_count": 2,
      "outputs": []
    },
    {
      "cell_type": "code",
      "source": [
        "# Try again, now using the function reduce and len\n",
        "# if values = [1, 2, 3]\n",
        "# len(values) = 3\n",
        "\n",
        "from functools import reduce\n",
        "\n",
        "values = [1,2,3]\n",
        "\n",
        "#...your function here\n",
        "def calculate_mean_reduce(numbers: list):\n",
        "  return reduce(lambda x, y: x + y, numbers) / len(numbers)\n",
        "\n",
        "print(calculate_mean(values))\n",
        "print(calculate_mean_reduce(values))"
      ],
      "metadata": {
        "id": "O7lr74ps5LAT",
        "colab": {
          "base_uri": "https://localhost:8080/"
        },
        "outputId": "af8dc70a-2f00-4a35-f06c-179dd6f34f9d"
      },
      "execution_count": 7,
      "outputs": [
        {
          "output_type": "stream",
          "name": "stdout",
          "text": [
            "2.0\n",
            "2.0\n"
          ]
        }
      ]
    },
    {
      "cell_type": "markdown",
      "source": [
        "You are given a function **process_user_data** that processes user data. The function is well-written with type hints and clean code, but the naming conventions are inconsistent and not descriptive enough. Your task is to refactor the function to improve the naming conventions."
      ],
      "metadata": {
        "id": "PiMyTEfW9Py2"
      }
    },
    {
      "cell_type": "markdown",
      "source": [
        "**Original function**"
      ],
      "metadata": {
        "id": "yWv2hYu29atW"
      }
    },
    {
      "cell_type": "code",
      "source": [
        "from typing import List, Dict\n",
        "\n",
        "def process_user_data(user_data: List[Dict[str, str]]) -> List[Dict[str, str]]:\n",
        "    \"\"\"\n",
        "    Process user data by extracting relevant information.\n",
        "\n",
        "    Args:\n",
        "        user_data (List[Dict[str, str]]): A list of dictionaries containing user data.\n",
        "\n",
        "    Returns:\n",
        "        List[Dict[str, str]]: A list of dictionaries containing processed user data.\n",
        "    \"\"\"\n",
        "    processed_data = []\n",
        "\n",
        "    for user in user_data:\n",
        "        user_name = user.get('customer_name')\n",
        "        user_age = user.get('client_age')\n",
        "        user_email = user.get('user_email')\n",
        "\n",
        "        if user_name and user_age and user_email:\n",
        "            processed_data.append({\n",
        "                'name': user_name,\n",
        "                'age': user_age,\n",
        "                'email': user_email\n",
        "            })\n",
        "\n",
        "    return processed_data"
      ],
      "metadata": {
        "id": "VLT1u9679T9X"
      },
      "execution_count": 20,
      "outputs": []
    },
    {
      "cell_type": "markdown",
      "source": [
        "## Testing"
      ],
      "metadata": {
        "id": "a4ZD-gIg9xge"
      }
    },
    {
      "cell_type": "markdown",
      "source": [
        "Write a unit test for the **calculate_mean** function from the previous exercise."
      ],
      "metadata": {
        "id": "qqXEZYIq9zVN"
      }
    },
    {
      "cell_type": "code",
      "source": [
        "def calculate_mean(values):\n",
        "    total_sum = 0\n",
        "    for value in values:\n",
        "        total_sum += value\n",
        "    return total_sum / len(values)"
      ],
      "metadata": {
        "id": "gkFNyNRu98Hq"
      },
      "execution_count": null,
      "outputs": []
    },
    {
      "cell_type": "code",
      "source": [
        "import unittest\n",
        "\n",
        "class TestCalculateMean(unittest.TestCase):\n",
        "  def test_calculate_mean(self):\n",
        "    # Per comprovar que la funció segueixi funcionant bé\n",
        "      self.assertEqual(calculate_mean([1,2,3]), 2)\n",
        "\n",
        "if __name__ == '__main__':\n",
        "  unittest.main(argv=['first-arg-is-ignored'], verbosity=1, exit=False)"
      ],
      "metadata": {
        "colab": {
          "base_uri": "https://localhost:8080/"
        },
        "id": "9GXTNdeP92j9",
        "outputId": "dc96738a-c128-4264-d241-3176e350020b"
      },
      "execution_count": 11,
      "outputs": [
        {
          "output_type": "stream",
          "name": "stderr",
          "text": [
            ".\n",
            "----------------------------------------------------------------------\n",
            "Ran 1 test in 0.001s\n",
            "\n",
            "OK\n"
          ]
        }
      ]
    },
    {
      "cell_type": "markdown",
      "source": [
        "## Docstring"
      ],
      "metadata": {
        "id": "9GOMoeTi62JX"
      }
    },
    {
      "cell_type": "markdown",
      "source": [
        "Add a docstring to the **calculate_feature_sum** function.\n",
        "\n",
        "```python\n",
        "def calculate_feature_sum(feature_values):\n",
        "    total_sum = 0\n",
        "    for value in feature_values:\n",
        "        total_sum += value\n",
        "    return total_sum\n",
        "```\n",
        "\n"
      ],
      "metadata": {
        "id": "f5n47syC646T"
      }
    },
    {
      "cell_type": "code",
      "source": [
        "def calculate_feature_sum(feature_values: list[int]):\n",
        "  \"\"\"\n",
        "  Calculate the sum of a list of numbers.\n",
        "\n",
        "  Parameters\n",
        "  ----------\n",
        "  feature_values : list\n",
        "    A list of numbers\n",
        "\n",
        "  Returns\n",
        "  -------\n",
        "  total_sum : int or float\n",
        "    The sum of the list elements\n",
        "  \"\"\"\n",
        "  total_sum = 0\n",
        "  for value in feature_values:\n",
        "      total_sum += value\n",
        "  return total_sum"
      ],
      "metadata": {
        "id": "ZDGH5xT97GOW"
      },
      "execution_count": 15,
      "outputs": []
    },
    {
      "cell_type": "markdown",
      "source": [
        "Add a docstring to the **LinearRegression** class and its methods.\n",
        "\n",
        "```python\n",
        "class LinearRegression:\n",
        "    def __init__(self, learning_rate, num_iterations):\n",
        "        self.learning_rate = learning_rate\n",
        "        self.num_iterations = num_iterations\n",
        "        self.weights = None\n",
        "        self.bias = None\n",
        "\n",
        "    def fit(self, features, targets):\n",
        "        num_samples, num_features = features.shape\n",
        "        self.weights = np.zeros(num_features)\n",
        "        self.bias = 0\n",
        "        for _ in range(self.num_iterations):\n",
        "            predicted_values = np.dot(features, self.weights) + self.bias\n",
        "            weight_gradient = (1 / num_samples) * np.dot(features.T, (predicted_values - targets))\n",
        "            bias_gradient = (1 / num_samples) * np.sum(predicted_values - targets)\n",
        "            self.weights -= self.learning_rate * weight_gradient\n",
        "            self.bias -= self.learning_rate * bias_gradient\n",
        "\n",
        "```\n",
        "\n"
      ],
      "metadata": {
        "id": "Peyy36CJ6d1l"
      }
    },
    {
      "cell_type": "code",
      "source": [
        "class LinearRegression:\n",
        "    def __init__(self, learning_rate, num_iterations):\n",
        "        self.learning_rate = learning_rate\n",
        "        self.num_iterations = num_iterations\n",
        "        self.weights = None\n",
        "        self.bias = None\n",
        "\n",
        "    def fit(self, features, targets):\n",
        "        num_samples, num_features = features.shape\n",
        "        self.weights = np.zeros(num_features)\n",
        "        self.bias = 0\n",
        "        for _ in range(self.num_iterations):\n",
        "            predicted_values = np.dot(features, self.weights) + self.bias\n",
        "            weight_gradient = (1 / num_samples) * np.dot(features.T, (predicted_values - targets))\n",
        "            bias_gradient = (1 / num_samples) * np.sum(predicted_values - targets)\n",
        "            self.weights -= self.learning_rate * weight_gradient\n",
        "            self.bias -= self.learning_rate * bias_gradient"
      ],
      "metadata": {
        "id": "fh3e4COv6fGF"
      },
      "execution_count": 16,
      "outputs": []
    },
    {
      "cell_type": "markdown",
      "source": [
        "## Keep It Simple"
      ],
      "metadata": {
        "id": "XGJdHYUO8Flj"
      }
    },
    {
      "cell_type": "markdown",
      "source": [
        "You are given a function **process_data** that performs several tasks: loading data, cleaning data, and calculating statistics. Your task is to refactor this function into separate, well-named methods to improve readability and maintainability.\n",
        "\n",
        "**Original function**"
      ],
      "metadata": {
        "id": "BAltedlh8L7D"
      }
    },
    {
      "cell_type": "code",
      "source": [
        "import numpy as np\n",
        "from typing import List, Tuple\n",
        "\n",
        "def process_data(file_path: str) -> Tuple[float, float]:\n",
        "    # Load data from a file\n",
        "    data = np.loadtxt(file_path, delimiter=',')\n",
        "\n",
        "    # Clean data by removing negative values\n",
        "    cleaned_data = [x for x in data if x >= 0]\n",
        "\n",
        "    # Calculate mean and standard deviation\n",
        "    mean_value = np.mean(cleaned_data)\n",
        "    std_dev_value = np.std(cleaned_data)\n",
        "\n",
        "    return mean_value, std_dev_value"
      ],
      "metadata": {
        "id": "KpxgiH5J8JXX"
      },
      "execution_count": null,
      "outputs": []
    },
    {
      "cell_type": "code",
      "source": [
        "class data_processor:\n",
        "\n",
        "  def __init__(self):\n",
        "    self.data = None\n",
        "    self.cleaned_data = None\n",
        "\n",
        "  def load_data(self, file_path: str):\n",
        "    # Load data from a file\n",
        "    self.data = np.loadtxt(file_path, delimiter=',')\n",
        "\n",
        "  def calculate_mean(self, file_path: str):\n",
        "    # Calculate mean and standard deviation\n",
        "    self.cleaned_data = [x for x in self.data if x >= 0]\n",
        "    mean_value = np.mean(self.cleaned_data)\n",
        "    std_dev_value = np.std(self.cleaned_data)\n",
        "    return mean_value, std_dev_value\n",
        "\n"
      ],
      "metadata": {
        "id": "J-3sf_Iq8TxR"
      },
      "execution_count": 19,
      "outputs": []
    },
    {
      "cell_type": "code",
      "source": [
        "#Your solution, also now add docstrings"
      ],
      "metadata": {
        "id": "rHAZXLtJ8Vwn"
      },
      "execution_count": null,
      "outputs": []
    },
    {
      "cell_type": "code",
      "source": [
        "#Create a class containing the methods, and also include docstrings"
      ],
      "metadata": {
        "id": "d-OU53Xn8aQY"
      },
      "execution_count": null,
      "outputs": []
    },
    {
      "cell_type": "markdown",
      "source": [],
      "metadata": {
        "id": "sZuIwcdv-k12"
      }
    },
    {
      "cell_type": "markdown",
      "source": [
        "You are given a function **dog_info** that returns the name and breed of a dog and prints a message where the dog barks and presents himself. Your task is to refactor this function into a class with different methods and implement type hints."
      ],
      "metadata": {
        "id": "SRwl9wMu_j2W"
      }
    },
    {
      "cell_type": "code",
      "source": [
        "def dog_info(name, breed) -> None:\n",
        "    \"\"\"\n",
        "    Print information about a dog.\n",
        "\n",
        "    Args:\n",
        "        name (str): The name of the dog.\n",
        "        breed (str): The breed of the dog.\n",
        "    \"\"\"\n",
        "    print(f\"Name: {name}\")\n",
        "    print(f\"Breed: {breed}\")\n",
        "    print(f\"{name} says: Woof! I am a {breed}.\")"
      ],
      "metadata": {
        "id": "HgIWleu4_lzK"
      },
      "execution_count": null,
      "outputs": []
    },
    {
      "cell_type": "markdown",
      "source": [
        "**Instructions**\n",
        "\n",
        "Create a class Dog with the following methods:\n",
        "\n",
        "        __init__: Initialize the dog with a name and breed\n",
        "        get_name: Return the name of the dog.\n",
        "        get_breed: Return the breed of the dog.\n",
        "        bark: Print a message where the dog barks.\n",
        "        introduce: Print a message where the dog introduces himself.\n",
        "Implement type hints for all methods.\n",
        "Ensure the class is well-documented with docstrings.\n"
      ],
      "metadata": {
        "id": "edxtSJ_l_uQt"
      }
    },
    {
      "cell_type": "code",
      "source": [
        "'''\n",
        "class Dog:\n",
        "    \"\"\"\n",
        "    A class to represent a dog.\n",
        "\n",
        "    Attributes:\n",
        "\n",
        "    \"\"\"\n",
        "\n",
        "    def __init__(self, name: str, breed: str) -> None:\n",
        "        \"\"\"\n",
        "        Initialize the dog with a name and breed.\n",
        "\n",
        "        Args:\n",
        "\n",
        "        \"\"\"\n",
        "        self.name = name\n",
        "        self.breed = breed\n",
        "\n",
        "    def get_name(self):\n",
        "        return self.name\n",
        "\n",
        "    def get_breed(self):\n",
        "        return self.breed\n",
        "\n",
        "    def bark(self):\n",
        "        print(f\"{self.name} says: Woof!\")\n",
        "\n",
        "    def introduce(self):\n",
        "        \"\"\"\n",
        "        Print a message where the dog introduces himself.\n",
        "        \"\"\"\n",
        "\n",
        "# Example usage\n",
        "if __name__ == \"__main__\":\n",
        "    my_dog = Dog(name=\"Buddy\", breed=\"Golden Retriever\")\n",
        "    my_dog.introduce()\n",
        "\n",
        "''''"
      ],
      "metadata": {
        "id": "MDVl8cT5_sf8"
      },
      "execution_count": null,
      "outputs": []
    }
  ]
}